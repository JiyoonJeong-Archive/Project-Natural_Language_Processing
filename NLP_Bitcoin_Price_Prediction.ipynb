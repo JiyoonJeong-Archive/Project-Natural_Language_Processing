{
  "nbformat": 4,
  "nbformat_minor": 0,
  "metadata": {
    "colab": {
      "provenance": []
    },
    "kernelspec": {
      "name": "python3",
      "display_name": "Python 3"
    },
    "language_info": {
      "name": "python"
    },
    "accelerator": "GPU",
    "widgets": {
      "application/vnd.jupyter.widget-state+json": {
        "e5af396c99664babb6be3fb7e7c0803e": {
          "model_module": "@jupyter-widgets/controls",
          "model_name": "HBoxModel",
          "model_module_version": "1.5.0",
          "state": {
            "_view_name": "HBoxView",
            "_dom_classes": [],
            "_model_name": "HBoxModel",
            "_view_module": "@jupyter-widgets/controls",
            "_model_module_version": "1.5.0",
            "_view_count": null,
            "_view_module_version": "1.5.0",
            "box_style": "",
            "layout": "IPY_MODEL_b436dcde5ad7426d8f1bff8a4af0c1e3",
            "_model_module": "@jupyter-widgets/controls",
            "children": [
              "IPY_MODEL_a35c6cf368404499b9d3c07e59ac50ed",
              "IPY_MODEL_29f1f971ce2e43fabf0d9f7662de9744",
              "IPY_MODEL_0f9bc91b89624249adb5283e193f9ad5"
            ]
          }
        },
        "b436dcde5ad7426d8f1bff8a4af0c1e3": {
          "model_module": "@jupyter-widgets/base",
          "model_name": "LayoutModel",
          "model_module_version": "1.2.0",
          "state": {
            "_view_name": "LayoutView",
            "grid_template_rows": null,
            "right": null,
            "justify_content": null,
            "_view_module": "@jupyter-widgets/base",
            "overflow": null,
            "_model_module_version": "1.2.0",
            "_view_count": null,
            "flex_flow": null,
            "width": null,
            "min_width": null,
            "border": null,
            "align_items": null,
            "bottom": null,
            "_model_module": "@jupyter-widgets/base",
            "top": null,
            "grid_column": null,
            "overflow_y": null,
            "overflow_x": null,
            "grid_auto_flow": null,
            "grid_area": null,
            "grid_template_columns": null,
            "flex": null,
            "_model_name": "LayoutModel",
            "justify_items": null,
            "grid_row": null,
            "max_height": null,
            "align_content": null,
            "visibility": null,
            "align_self": null,
            "height": null,
            "min_height": null,
            "padding": null,
            "grid_auto_rows": null,
            "grid_gap": null,
            "max_width": null,
            "order": null,
            "_view_module_version": "1.2.0",
            "grid_template_areas": null,
            "object_position": null,
            "object_fit": null,
            "grid_auto_columns": null,
            "margin": null,
            "display": null,
            "left": null
          }
        },
        "a35c6cf368404499b9d3c07e59ac50ed": {
          "model_module": "@jupyter-widgets/controls",
          "model_name": "HTMLModel",
          "model_module_version": "1.5.0",
          "state": {
            "_view_name": "HTMLView",
            "style": "IPY_MODEL_2f7ec19d4e9c4959a46fe2186b1b98a5",
            "_dom_classes": [],
            "description": "",
            "_model_name": "HTMLModel",
            "placeholder": "​",
            "_view_module": "@jupyter-widgets/controls",
            "_model_module_version": "1.5.0",
            "value": "Downloading: 100%",
            "_view_count": null,
            "_view_module_version": "1.5.0",
            "description_tooltip": null,
            "_model_module": "@jupyter-widgets/controls",
            "layout": "IPY_MODEL_fa57d0b5d769478490c77eee1f70dae8"
          }
        },
        "29f1f971ce2e43fabf0d9f7662de9744": {
          "model_module": "@jupyter-widgets/controls",
          "model_name": "FloatProgressModel",
          "model_module_version": "1.5.0",
          "state": {
            "_view_name": "ProgressView",
            "style": "IPY_MODEL_69083932f9a04502ae056d8a1a065e0e",
            "_dom_classes": [],
            "description": "",
            "_model_name": "FloatProgressModel",
            "bar_style": "success",
            "max": 570,
            "_view_module": "@jupyter-widgets/controls",
            "_model_module_version": "1.5.0",
            "value": 570,
            "_view_count": null,
            "_view_module_version": "1.5.0",
            "orientation": "horizontal",
            "min": 0,
            "description_tooltip": null,
            "_model_module": "@jupyter-widgets/controls",
            "layout": "IPY_MODEL_fe31d11a5c7b43c9bcbabe7f33f917b5"
          }
        },
        "0f9bc91b89624249adb5283e193f9ad5": {
          "model_module": "@jupyter-widgets/controls",
          "model_name": "HTMLModel",
          "model_module_version": "1.5.0",
          "state": {
            "_view_name": "HTMLView",
            "style": "IPY_MODEL_651c368f8d88419b9ad423219766531f",
            "_dom_classes": [],
            "description": "",
            "_model_name": "HTMLModel",
            "placeholder": "​",
            "_view_module": "@jupyter-widgets/controls",
            "_model_module_version": "1.5.0",
            "value": " 570/570 [00:00&lt;00:00, 11.3kB/s]",
            "_view_count": null,
            "_view_module_version": "1.5.0",
            "description_tooltip": null,
            "_model_module": "@jupyter-widgets/controls",
            "layout": "IPY_MODEL_9251d30f509044d2932a1d649489d6bf"
          }
        },
        "2f7ec19d4e9c4959a46fe2186b1b98a5": {
          "model_module": "@jupyter-widgets/controls",
          "model_name": "DescriptionStyleModel",
          "model_module_version": "1.5.0",
          "state": {
            "_view_name": "StyleView",
            "_model_name": "DescriptionStyleModel",
            "description_width": "",
            "_view_module": "@jupyter-widgets/base",
            "_model_module_version": "1.5.0",
            "_view_count": null,
            "_view_module_version": "1.2.0",
            "_model_module": "@jupyter-widgets/controls"
          }
        },
        "fa57d0b5d769478490c77eee1f70dae8": {
          "model_module": "@jupyter-widgets/base",
          "model_name": "LayoutModel",
          "model_module_version": "1.2.0",
          "state": {
            "_view_name": "LayoutView",
            "grid_template_rows": null,
            "right": null,
            "justify_content": null,
            "_view_module": "@jupyter-widgets/base",
            "overflow": null,
            "_model_module_version": "1.2.0",
            "_view_count": null,
            "flex_flow": null,
            "width": null,
            "min_width": null,
            "border": null,
            "align_items": null,
            "bottom": null,
            "_model_module": "@jupyter-widgets/base",
            "top": null,
            "grid_column": null,
            "overflow_y": null,
            "overflow_x": null,
            "grid_auto_flow": null,
            "grid_area": null,
            "grid_template_columns": null,
            "flex": null,
            "_model_name": "LayoutModel",
            "justify_items": null,
            "grid_row": null,
            "max_height": null,
            "align_content": null,
            "visibility": null,
            "align_self": null,
            "height": null,
            "min_height": null,
            "padding": null,
            "grid_auto_rows": null,
            "grid_gap": null,
            "max_width": null,
            "order": null,
            "_view_module_version": "1.2.0",
            "grid_template_areas": null,
            "object_position": null,
            "object_fit": null,
            "grid_auto_columns": null,
            "margin": null,
            "display": null,
            "left": null
          }
        },
        "69083932f9a04502ae056d8a1a065e0e": {
          "model_module": "@jupyter-widgets/controls",
          "model_name": "ProgressStyleModel",
          "model_module_version": "1.5.0",
          "state": {
            "_view_name": "StyleView",
            "_model_name": "ProgressStyleModel",
            "description_width": "",
            "_view_module": "@jupyter-widgets/base",
            "_model_module_version": "1.5.0",
            "_view_count": null,
            "_view_module_version": "1.2.0",
            "bar_color": null,
            "_model_module": "@jupyter-widgets/controls"
          }
        },
        "fe31d11a5c7b43c9bcbabe7f33f917b5": {
          "model_module": "@jupyter-widgets/base",
          "model_name": "LayoutModel",
          "model_module_version": "1.2.0",
          "state": {
            "_view_name": "LayoutView",
            "grid_template_rows": null,
            "right": null,
            "justify_content": null,
            "_view_module": "@jupyter-widgets/base",
            "overflow": null,
            "_model_module_version": "1.2.0",
            "_view_count": null,
            "flex_flow": null,
            "width": null,
            "min_width": null,
            "border": null,
            "align_items": null,
            "bottom": null,
            "_model_module": "@jupyter-widgets/base",
            "top": null,
            "grid_column": null,
            "overflow_y": null,
            "overflow_x": null,
            "grid_auto_flow": null,
            "grid_area": null,
            "grid_template_columns": null,
            "flex": null,
            "_model_name": "LayoutModel",
            "justify_items": null,
            "grid_row": null,
            "max_height": null,
            "align_content": null,
            "visibility": null,
            "align_self": null,
            "height": null,
            "min_height": null,
            "padding": null,
            "grid_auto_rows": null,
            "grid_gap": null,
            "max_width": null,
            "order": null,
            "_view_module_version": "1.2.0",
            "grid_template_areas": null,
            "object_position": null,
            "object_fit": null,
            "grid_auto_columns": null,
            "margin": null,
            "display": null,
            "left": null
          }
        },
        "651c368f8d88419b9ad423219766531f": {
          "model_module": "@jupyter-widgets/controls",
          "model_name": "DescriptionStyleModel",
          "model_module_version": "1.5.0",
          "state": {
            "_view_name": "StyleView",
            "_model_name": "DescriptionStyleModel",
            "description_width": "",
            "_view_module": "@jupyter-widgets/base",
            "_model_module_version": "1.5.0",
            "_view_count": null,
            "_view_module_version": "1.2.0",
            "_model_module": "@jupyter-widgets/controls"
          }
        },
        "9251d30f509044d2932a1d649489d6bf": {
          "model_module": "@jupyter-widgets/base",
          "model_name": "LayoutModel",
          "model_module_version": "1.2.0",
          "state": {
            "_view_name": "LayoutView",
            "grid_template_rows": null,
            "right": null,
            "justify_content": null,
            "_view_module": "@jupyter-widgets/base",
            "overflow": null,
            "_model_module_version": "1.2.0",
            "_view_count": null,
            "flex_flow": null,
            "width": null,
            "min_width": null,
            "border": null,
            "align_items": null,
            "bottom": null,
            "_model_module": "@jupyter-widgets/base",
            "top": null,
            "grid_column": null,
            "overflow_y": null,
            "overflow_x": null,
            "grid_auto_flow": null,
            "grid_area": null,
            "grid_template_columns": null,
            "flex": null,
            "_model_name": "LayoutModel",
            "justify_items": null,
            "grid_row": null,
            "max_height": null,
            "align_content": null,
            "visibility": null,
            "align_self": null,
            "height": null,
            "min_height": null,
            "padding": null,
            "grid_auto_rows": null,
            "grid_gap": null,
            "max_width": null,
            "order": null,
            "_view_module_version": "1.2.0",
            "grid_template_areas": null,
            "object_position": null,
            "object_fit": null,
            "grid_auto_columns": null,
            "margin": null,
            "display": null,
            "left": null
          }
        },
        "a5af214293324928a271de9f33b4a8f5": {
          "model_module": "@jupyter-widgets/controls",
          "model_name": "HBoxModel",
          "model_module_version": "1.5.0",
          "state": {
            "_view_name": "HBoxView",
            "_dom_classes": [],
            "_model_name": "HBoxModel",
            "_view_module": "@jupyter-widgets/controls",
            "_model_module_version": "1.5.0",
            "_view_count": null,
            "_view_module_version": "1.5.0",
            "box_style": "",
            "layout": "IPY_MODEL_645c09a7ac6c4832aaab7df0a6dbe161",
            "_model_module": "@jupyter-widgets/controls",
            "children": [
              "IPY_MODEL_269b7c2989a3434097d1f6327b44f993",
              "IPY_MODEL_dfe2bfd1ce0741128f7e56a85b5eec07",
              "IPY_MODEL_328090bf460844988e1dd351620b0c78"
            ]
          }
        },
        "645c09a7ac6c4832aaab7df0a6dbe161": {
          "model_module": "@jupyter-widgets/base",
          "model_name": "LayoutModel",
          "model_module_version": "1.2.0",
          "state": {
            "_view_name": "LayoutView",
            "grid_template_rows": null,
            "right": null,
            "justify_content": null,
            "_view_module": "@jupyter-widgets/base",
            "overflow": null,
            "_model_module_version": "1.2.0",
            "_view_count": null,
            "flex_flow": null,
            "width": null,
            "min_width": null,
            "border": null,
            "align_items": null,
            "bottom": null,
            "_model_module": "@jupyter-widgets/base",
            "top": null,
            "grid_column": null,
            "overflow_y": null,
            "overflow_x": null,
            "grid_auto_flow": null,
            "grid_area": null,
            "grid_template_columns": null,
            "flex": null,
            "_model_name": "LayoutModel",
            "justify_items": null,
            "grid_row": null,
            "max_height": null,
            "align_content": null,
            "visibility": null,
            "align_self": null,
            "height": null,
            "min_height": null,
            "padding": null,
            "grid_auto_rows": null,
            "grid_gap": null,
            "max_width": null,
            "order": null,
            "_view_module_version": "1.2.0",
            "grid_template_areas": null,
            "object_position": null,
            "object_fit": null,
            "grid_auto_columns": null,
            "margin": null,
            "display": null,
            "left": null
          }
        },
        "269b7c2989a3434097d1f6327b44f993": {
          "model_module": "@jupyter-widgets/controls",
          "model_name": "HTMLModel",
          "model_module_version": "1.5.0",
          "state": {
            "_view_name": "HTMLView",
            "style": "IPY_MODEL_f9eea1b3c46b43f792278e7ab395c6c9",
            "_dom_classes": [],
            "description": "",
            "_model_name": "HTMLModel",
            "placeholder": "​",
            "_view_module": "@jupyter-widgets/controls",
            "_model_module_version": "1.5.0",
            "value": "Downloading: 100%",
            "_view_count": null,
            "_view_module_version": "1.5.0",
            "description_tooltip": null,
            "_model_module": "@jupyter-widgets/controls",
            "layout": "IPY_MODEL_8660a58a6ba5457ca5b1472cff5dfeea"
          }
        },
        "dfe2bfd1ce0741128f7e56a85b5eec07": {
          "model_module": "@jupyter-widgets/controls",
          "model_name": "FloatProgressModel",
          "model_module_version": "1.5.0",
          "state": {
            "_view_name": "ProgressView",
            "style": "IPY_MODEL_9faa8847d05f4b379cba51a7612649b4",
            "_dom_classes": [],
            "description": "",
            "_model_name": "FloatProgressModel",
            "bar_style": "success",
            "max": 440473133,
            "_view_module": "@jupyter-widgets/controls",
            "_model_module_version": "1.5.0",
            "value": 440473133,
            "_view_count": null,
            "_view_module_version": "1.5.0",
            "orientation": "horizontal",
            "min": 0,
            "description_tooltip": null,
            "_model_module": "@jupyter-widgets/controls",
            "layout": "IPY_MODEL_182a5a0a71744e06ba939cc64a31fe83"
          }
        },
        "328090bf460844988e1dd351620b0c78": {
          "model_module": "@jupyter-widgets/controls",
          "model_name": "HTMLModel",
          "model_module_version": "1.5.0",
          "state": {
            "_view_name": "HTMLView",
            "style": "IPY_MODEL_139bae16a25f48378a76c0f1f7c252ed",
            "_dom_classes": [],
            "description": "",
            "_model_name": "HTMLModel",
            "placeholder": "​",
            "_view_module": "@jupyter-widgets/controls",
            "_model_module_version": "1.5.0",
            "value": " 420M/420M [00:14&lt;00:00, 33.0MB/s]",
            "_view_count": null,
            "_view_module_version": "1.5.0",
            "description_tooltip": null,
            "_model_module": "@jupyter-widgets/controls",
            "layout": "IPY_MODEL_ef9f3af3005643f8a21bd744cdb96ef7"
          }
        },
        "f9eea1b3c46b43f792278e7ab395c6c9": {
          "model_module": "@jupyter-widgets/controls",
          "model_name": "DescriptionStyleModel",
          "model_module_version": "1.5.0",
          "state": {
            "_view_name": "StyleView",
            "_model_name": "DescriptionStyleModel",
            "description_width": "",
            "_view_module": "@jupyter-widgets/base",
            "_model_module_version": "1.5.0",
            "_view_count": null,
            "_view_module_version": "1.2.0",
            "_model_module": "@jupyter-widgets/controls"
          }
        },
        "8660a58a6ba5457ca5b1472cff5dfeea": {
          "model_module": "@jupyter-widgets/base",
          "model_name": "LayoutModel",
          "model_module_version": "1.2.0",
          "state": {
            "_view_name": "LayoutView",
            "grid_template_rows": null,
            "right": null,
            "justify_content": null,
            "_view_module": "@jupyter-widgets/base",
            "overflow": null,
            "_model_module_version": "1.2.0",
            "_view_count": null,
            "flex_flow": null,
            "width": null,
            "min_width": null,
            "border": null,
            "align_items": null,
            "bottom": null,
            "_model_module": "@jupyter-widgets/base",
            "top": null,
            "grid_column": null,
            "overflow_y": null,
            "overflow_x": null,
            "grid_auto_flow": null,
            "grid_area": null,
            "grid_template_columns": null,
            "flex": null,
            "_model_name": "LayoutModel",
            "justify_items": null,
            "grid_row": null,
            "max_height": null,
            "align_content": null,
            "visibility": null,
            "align_self": null,
            "height": null,
            "min_height": null,
            "padding": null,
            "grid_auto_rows": null,
            "grid_gap": null,
            "max_width": null,
            "order": null,
            "_view_module_version": "1.2.0",
            "grid_template_areas": null,
            "object_position": null,
            "object_fit": null,
            "grid_auto_columns": null,
            "margin": null,
            "display": null,
            "left": null
          }
        },
        "9faa8847d05f4b379cba51a7612649b4": {
          "model_module": "@jupyter-widgets/controls",
          "model_name": "ProgressStyleModel",
          "model_module_version": "1.5.0",
          "state": {
            "_view_name": "StyleView",
            "_model_name": "ProgressStyleModel",
            "description_width": "",
            "_view_module": "@jupyter-widgets/base",
            "_model_module_version": "1.5.0",
            "_view_count": null,
            "_view_module_version": "1.2.0",
            "bar_color": null,
            "_model_module": "@jupyter-widgets/controls"
          }
        },
        "182a5a0a71744e06ba939cc64a31fe83": {
          "model_module": "@jupyter-widgets/base",
          "model_name": "LayoutModel",
          "model_module_version": "1.2.0",
          "state": {
            "_view_name": "LayoutView",
            "grid_template_rows": null,
            "right": null,
            "justify_content": null,
            "_view_module": "@jupyter-widgets/base",
            "overflow": null,
            "_model_module_version": "1.2.0",
            "_view_count": null,
            "flex_flow": null,
            "width": null,
            "min_width": null,
            "border": null,
            "align_items": null,
            "bottom": null,
            "_model_module": "@jupyter-widgets/base",
            "top": null,
            "grid_column": null,
            "overflow_y": null,
            "overflow_x": null,
            "grid_auto_flow": null,
            "grid_area": null,
            "grid_template_columns": null,
            "flex": null,
            "_model_name": "LayoutModel",
            "justify_items": null,
            "grid_row": null,
            "max_height": null,
            "align_content": null,
            "visibility": null,
            "align_self": null,
            "height": null,
            "min_height": null,
            "padding": null,
            "grid_auto_rows": null,
            "grid_gap": null,
            "max_width": null,
            "order": null,
            "_view_module_version": "1.2.0",
            "grid_template_areas": null,
            "object_position": null,
            "object_fit": null,
            "grid_auto_columns": null,
            "margin": null,
            "display": null,
            "left": null
          }
        },
        "139bae16a25f48378a76c0f1f7c252ed": {
          "model_module": "@jupyter-widgets/controls",
          "model_name": "DescriptionStyleModel",
          "model_module_version": "1.5.0",
          "state": {
            "_view_name": "StyleView",
            "_model_name": "DescriptionStyleModel",
            "description_width": "",
            "_view_module": "@jupyter-widgets/base",
            "_model_module_version": "1.5.0",
            "_view_count": null,
            "_view_module_version": "1.2.0",
            "_model_module": "@jupyter-widgets/controls"
          }
        },
        "ef9f3af3005643f8a21bd744cdb96ef7": {
          "model_module": "@jupyter-widgets/base",
          "model_name": "LayoutModel",
          "model_module_version": "1.2.0",
          "state": {
            "_view_name": "LayoutView",
            "grid_template_rows": null,
            "right": null,
            "justify_content": null,
            "_view_module": "@jupyter-widgets/base",
            "overflow": null,
            "_model_module_version": "1.2.0",
            "_view_count": null,
            "flex_flow": null,
            "width": null,
            "min_width": null,
            "border": null,
            "align_items": null,
            "bottom": null,
            "_model_module": "@jupyter-widgets/base",
            "top": null,
            "grid_column": null,
            "overflow_y": null,
            "overflow_x": null,
            "grid_auto_flow": null,
            "grid_area": null,
            "grid_template_columns": null,
            "flex": null,
            "_model_name": "LayoutModel",
            "justify_items": null,
            "grid_row": null,
            "max_height": null,
            "align_content": null,
            "visibility": null,
            "align_self": null,
            "height": null,
            "min_height": null,
            "padding": null,
            "grid_auto_rows": null,
            "grid_gap": null,
            "max_width": null,
            "order": null,
            "_view_module_version": "1.2.0",
            "grid_template_areas": null,
            "object_position": null,
            "object_fit": null,
            "grid_auto_columns": null,
            "margin": null,
            "display": null,
            "left": null
          }
        }
      }
    }
  },
  "cells": [
    {
      "cell_type": "markdown",
      "metadata": {
        "id": "7FBoGxQZeaQm"
      },
      "source": [
        "Transformers for Sentiment Analysis\n",
        "---"
      ]
    },
    {
      "cell_type": "code",
      "metadata": {
        "colab": {
          "base_uri": "https://localhost:8080/"
        },
        "id": "NCqnz0QXJNsm",
        "outputId": "8bbb6e9c-5851-4d15-a036-0a1bf70af589"
      },
      "source": [
        "!pip install pyupbit\n",
        "!pip install pyjwt\n",
        "\n",
        "import pandas as pd\n",
        "import pyupbit\n",
        "from datetime import datetime\n",
        "import time\n",
        "\n",
        "import numpy as np\n",
        "import torch\n",
        "import torch.nn as nn\n",
        "import torch.optim as optim\n",
        "import torch.nn.functional as F\n",
        "from torch.utils.data import Dataset, DataLoader\n",
        "from torch.nn.utils.rnn import pad_packed_sequence, pack_padded_sequence\n",
        "import tqdm\n",
        "import matplotlib as mpl\n",
        "from nltk.tokenize import TreebankWordTokenizer\n",
        "tokenizer = TreebankWordTokenizer()"
      ],
      "execution_count": null,
      "outputs": [
        {
          "output_type": "stream",
          "name": "stdout",
          "text": [
            "Requirement already satisfied: pyupbit in /usr/local/lib/python3.7/dist-packages (0.2.21)\n",
            "Requirement already satisfied: pyjwt>=2.0.0 in /usr/local/lib/python3.7/dist-packages (from pyupbit) (2.3.0)\n",
            "Requirement already satisfied: requests in /usr/local/lib/python3.7/dist-packages (from pyupbit) (2.23.0)\n",
            "Requirement already satisfied: pandas in /usr/local/lib/python3.7/dist-packages (from pyupbit) (1.1.5)\n",
            "Requirement already satisfied: websockets==9.1 in /usr/local/lib/python3.7/dist-packages (from pyupbit) (9.1)\n",
            "Requirement already satisfied: python-dateutil>=2.7.3 in /usr/local/lib/python3.7/dist-packages (from pandas->pyupbit) (2.8.2)\n",
            "Requirement already satisfied: pytz>=2017.2 in /usr/local/lib/python3.7/dist-packages (from pandas->pyupbit) (2018.9)\n",
            "Requirement already satisfied: numpy>=1.15.4 in /usr/local/lib/python3.7/dist-packages (from pandas->pyupbit) (1.19.5)\n",
            "Requirement already satisfied: six>=1.5 in /usr/local/lib/python3.7/dist-packages (from python-dateutil>=2.7.3->pandas->pyupbit) (1.15.0)\n",
            "Requirement already satisfied: chardet<4,>=3.0.2 in /usr/local/lib/python3.7/dist-packages (from requests->pyupbit) (3.0.4)\n",
            "Requirement already satisfied: idna<3,>=2.5 in /usr/local/lib/python3.7/dist-packages (from requests->pyupbit) (2.10)\n",
            "Requirement already satisfied: certifi>=2017.4.17 in /usr/local/lib/python3.7/dist-packages (from requests->pyupbit) (2021.10.8)\n",
            "Requirement already satisfied: urllib3!=1.25.0,!=1.25.1,<1.26,>=1.21.1 in /usr/local/lib/python3.7/dist-packages (from requests->pyupbit) (1.24.3)\n",
            "Requirement already satisfied: pyjwt in /usr/local/lib/python3.7/dist-packages (2.3.0)\n"
          ]
        }
      ]
    },
    {
      "cell_type": "code",
      "metadata": {
        "colab": {
          "base_uri": "https://localhost:8080/",
          "height": 423
        },
        "id": "KYPdQWEST_i1",
        "outputId": "4866b5d6-9505-4724-c598-3fd983215e4a"
      },
      "source": [
        "df_corpus = pd.read_csv('/content/sample_data/twitter(cleaned_text).csv')\n",
        "df_corpus"
      ],
      "execution_count": null,
      "outputs": [
        {
          "output_type": "execute_result",
          "data": {
            "text/html": [
              "<div>\n",
              "<style scoped>\n",
              "    .dataframe tbody tr th:only-of-type {\n",
              "        vertical-align: middle;\n",
              "    }\n",
              "\n",
              "    .dataframe tbody tr th {\n",
              "        vertical-align: top;\n",
              "    }\n",
              "\n",
              "    .dataframe thead th {\n",
              "        text-align: right;\n",
              "    }\n",
              "</style>\n",
              "<table border=\"1\" class=\"dataframe\">\n",
              "  <thead>\n",
              "    <tr style=\"text-align: right;\">\n",
              "      <th></th>\n",
              "      <th>Unnamed: 0</th>\n",
              "      <th>timestamp</th>\n",
              "      <th>cleaned_text</th>\n",
              "    </tr>\n",
              "  </thead>\n",
              "  <tbody>\n",
              "    <tr>\n",
              "      <th>0</th>\n",
              "      <td>0</td>\n",
              "      <td>2021-01-05 23:58:58</td>\n",
              "      <td>bitcoin</td>\n",
              "    </tr>\n",
              "    <tr>\n",
              "      <th>1</th>\n",
              "      <td>1</td>\n",
              "      <td>2021-01-05 23:58:58</td>\n",
              "      <td>can t wait to spend my bitcoin</td>\n",
              "    </tr>\n",
              "    <tr>\n",
              "      <th>2</th>\n",
              "      <td>2</td>\n",
              "      <td>2021-01-05 23:58:56</td>\n",
              "      <td>billionaires buying bitcoin hedge funds buyin...</td>\n",
              "    </tr>\n",
              "    <tr>\n",
              "      <th>3</th>\n",
              "      <td>3</td>\n",
              "      <td>2021-01-05 23:58:56</td>\n",
              "      <td>hey   i m looking forward to the  cybertruck ...</td>\n",
              "    </tr>\n",
              "    <tr>\n",
              "      <th>4</th>\n",
              "      <td>4</td>\n",
              "      <td>2021-01-05 23:58:55</td>\n",
              "      <td>the developing story of the future of  money  ...</td>\n",
              "    </tr>\n",
              "    <tr>\n",
              "      <th>...</th>\n",
              "      <td>...</td>\n",
              "      <td>...</td>\n",
              "      <td>...</td>\n",
              "    </tr>\n",
              "    <tr>\n",
              "      <th>4930</th>\n",
              "      <td>4995</td>\n",
              "      <td>2021-10-25 23:58:21</td>\n",
              "      <td>cryptocurrency  bitcoin                     ...</td>\n",
              "    </tr>\n",
              "    <tr>\n",
              "      <th>4931</th>\n",
              "      <td>4996</td>\n",
              "      <td>2021-10-25 23:58:21</td>\n",
              "      <td>mastercard integra pagos con  cryptos a su re...</td>\n",
              "    </tr>\n",
              "    <tr>\n",
              "      <th>4932</th>\n",
              "      <td>4997</td>\n",
              "      <td>2021-10-25 23:58:20</td>\n",
              "      <td>bitcoin unsure if it s going to work price wil...</td>\n",
              "    </tr>\n",
              "    <tr>\n",
              "      <th>4933</th>\n",
              "      <td>4998</td>\n",
              "      <td>2021-10-25 23:58:20</td>\n",
              "      <td>peter is going to be talking about how bad o...</td>\n",
              "    </tr>\n",
              "    <tr>\n",
              "      <th>4934</th>\n",
              "      <td>4999</td>\n",
              "      <td>2021-10-25 23:58:19</td>\n",
              "      <td>you ve got 2 mins   to post your cashapp payp...</td>\n",
              "    </tr>\n",
              "  </tbody>\n",
              "</table>\n",
              "<p>4935 rows × 3 columns</p>\n",
              "</div>"
            ],
            "text/plain": [
              "      Unnamed: 0  ...                                       cleaned_text\n",
              "0              0  ...                                           bitcoin \n",
              "1              1  ...                     can t wait to spend my bitcoin\n",
              "2              2  ...   billionaires buying bitcoin hedge funds buyin...\n",
              "3              3  ...   hey   i m looking forward to the  cybertruck ...\n",
              "4              4  ...  the developing story of the future of  money  ...\n",
              "...          ...  ...                                                ...\n",
              "4930        4995  ...    cryptocurrency  bitcoin                     ...\n",
              "4931        4996  ...   mastercard integra pagos con  cryptos a su re...\n",
              "4932        4997  ...  bitcoin unsure if it s going to work price wil...\n",
              "4933        4998  ...    peter is going to be talking about how bad o...\n",
              "4934        4999  ...   you ve got 2 mins   to post your cashapp payp...\n",
              "\n",
              "[4935 rows x 3 columns]"
            ]
          },
          "metadata": {},
          "execution_count": 15
        }
      ]
    },
    {
      "cell_type": "code",
      "metadata": {
        "id": "HYWwrDRjUM7W",
        "colab": {
          "base_uri": "https://localhost:8080/",
          "height": 597
        },
        "outputId": "bfe6fa64-2610-4261-8f68-d5a338325a85"
      },
      "source": [
        "# Get Cryptocurrency API\n",
        "\n",
        "corpus = df_corpus['cleaned_text']\n",
        "\n",
        "ticker = 'KRW-BTC'\n",
        "interval = 'day' # 30 minutes\n",
        "to = '2021-10-31 23:59:59'\n",
        "count = 305 # 받아올 데이터의 개수 : 2021-01-01 ~ 2021-10-31\n",
        "df_pyupbit = pyupbit.get_ohlcv(ticker=ticker, interval=interval, to=to, count=count)\n",
        "df_pyupbit.drop_duplicates(inplace=True)\n",
        "df_pyupbit = df_pyupbit\n",
        "df_pyupbit"
      ],
      "execution_count": null,
      "outputs": [
        {
          "output_type": "execute_result",
          "data": {
            "text/html": [
              "<div>\n",
              "<style scoped>\n",
              "    .dataframe tbody tr th:only-of-type {\n",
              "        vertical-align: middle;\n",
              "    }\n",
              "\n",
              "    .dataframe tbody tr th {\n",
              "        vertical-align: top;\n",
              "    }\n",
              "\n",
              "    .dataframe thead th {\n",
              "        text-align: right;\n",
              "    }\n",
              "</style>\n",
              "<table border=\"1\" class=\"dataframe\">\n",
              "  <thead>\n",
              "    <tr style=\"text-align: right;\">\n",
              "      <th></th>\n",
              "      <th>open</th>\n",
              "      <th>high</th>\n",
              "      <th>low</th>\n",
              "      <th>close</th>\n",
              "      <th>volume</th>\n",
              "      <th>value</th>\n",
              "    </tr>\n",
              "  </thead>\n",
              "  <tbody>\n",
              "    <tr>\n",
              "      <th>2021-01-01 09:00:00</th>\n",
              "      <td>32037000.0</td>\n",
              "      <td>32599000.0</td>\n",
              "      <td>31800000.0</td>\n",
              "      <td>32296000.0</td>\n",
              "      <td>5752.494216</td>\n",
              "      <td>1.856139e+11</td>\n",
              "    </tr>\n",
              "    <tr>\n",
              "      <th>2021-01-02 09:00:00</th>\n",
              "      <td>32295000.0</td>\n",
              "      <td>36600000.0</td>\n",
              "      <td>31920000.0</td>\n",
              "      <td>35700000.0</td>\n",
              "      <td>17451.167678</td>\n",
              "      <td>6.023355e+11</td>\n",
              "    </tr>\n",
              "    <tr>\n",
              "      <th>2021-01-03 09:00:00</th>\n",
              "      <td>35700000.0</td>\n",
              "      <td>39453000.0</td>\n",
              "      <td>35500000.0</td>\n",
              "      <td>37537000.0</td>\n",
              "      <td>25381.506623</td>\n",
              "      <td>9.588751e+11</td>\n",
              "    </tr>\n",
              "    <tr>\n",
              "      <th>2021-01-04 09:00:00</th>\n",
              "      <td>37537000.0</td>\n",
              "      <td>38476000.0</td>\n",
              "      <td>33000000.0</td>\n",
              "      <td>36460000.0</td>\n",
              "      <td>23598.194590</td>\n",
              "      <td>8.472770e+11</td>\n",
              "    </tr>\n",
              "    <tr>\n",
              "      <th>2021-01-05 09:00:00</th>\n",
              "      <td>36478000.0</td>\n",
              "      <td>38590000.0</td>\n",
              "      <td>34357000.0</td>\n",
              "      <td>38093000.0</td>\n",
              "      <td>13461.981681</td>\n",
              "      <td>4.915540e+11</td>\n",
              "    </tr>\n",
              "    <tr>\n",
              "      <th>...</th>\n",
              "      <td>...</td>\n",
              "      <td>...</td>\n",
              "      <td>...</td>\n",
              "      <td>...</td>\n",
              "      <td>...</td>\n",
              "      <td>...</td>\n",
              "    </tr>\n",
              "    <tr>\n",
              "      <th>2021-10-27 09:00:00</th>\n",
              "      <td>73293000.0</td>\n",
              "      <td>74200000.0</td>\n",
              "      <td>70180000.0</td>\n",
              "      <td>71845000.0</td>\n",
              "      <td>14503.825032</td>\n",
              "      <td>1.053621e+12</td>\n",
              "    </tr>\n",
              "    <tr>\n",
              "      <th>2021-10-28 09:00:00</th>\n",
              "      <td>71833000.0</td>\n",
              "      <td>74707000.0</td>\n",
              "      <td>71028000.0</td>\n",
              "      <td>73122000.0</td>\n",
              "      <td>8654.621479</td>\n",
              "      <td>6.303259e+11</td>\n",
              "    </tr>\n",
              "    <tr>\n",
              "      <th>2021-10-29 09:00:00</th>\n",
              "      <td>73028000.0</td>\n",
              "      <td>75405000.0</td>\n",
              "      <td>72676000.0</td>\n",
              "      <td>74568000.0</td>\n",
              "      <td>7156.549544</td>\n",
              "      <td>5.291485e+11</td>\n",
              "    </tr>\n",
              "    <tr>\n",
              "      <th>2021-10-30 09:00:00</th>\n",
              "      <td>74568000.0</td>\n",
              "      <td>74748000.0</td>\n",
              "      <td>72910000.0</td>\n",
              "      <td>73413000.0</td>\n",
              "      <td>6019.372636</td>\n",
              "      <td>4.439742e+11</td>\n",
              "    </tr>\n",
              "    <tr>\n",
              "      <th>2021-10-31 09:00:00</th>\n",
              "      <td>73428000.0</td>\n",
              "      <td>74502000.0</td>\n",
              "      <td>71551000.0</td>\n",
              "      <td>72391000.0</td>\n",
              "      <td>7515.247720</td>\n",
              "      <td>5.476247e+11</td>\n",
              "    </tr>\n",
              "  </tbody>\n",
              "</table>\n",
              "<p>304 rows × 6 columns</p>\n",
              "</div>"
            ],
            "text/plain": [
              "                           open        high  ...        volume         value\n",
              "2021-01-01 09:00:00  32037000.0  32599000.0  ...   5752.494216  1.856139e+11\n",
              "2021-01-02 09:00:00  32295000.0  36600000.0  ...  17451.167678  6.023355e+11\n",
              "2021-01-03 09:00:00  35700000.0  39453000.0  ...  25381.506623  9.588751e+11\n",
              "2021-01-04 09:00:00  37537000.0  38476000.0  ...  23598.194590  8.472770e+11\n",
              "2021-01-05 09:00:00  36478000.0  38590000.0  ...  13461.981681  4.915540e+11\n",
              "...                         ...         ...  ...           ...           ...\n",
              "2021-10-27 09:00:00  73293000.0  74200000.0  ...  14503.825032  1.053621e+12\n",
              "2021-10-28 09:00:00  71833000.0  74707000.0  ...   8654.621479  6.303259e+11\n",
              "2021-10-29 09:00:00  73028000.0  75405000.0  ...   7156.549544  5.291485e+11\n",
              "2021-10-30 09:00:00  74568000.0  74748000.0  ...   6019.372636  4.439742e+11\n",
              "2021-10-31 09:00:00  73428000.0  74502000.0  ...   7515.247720  5.476247e+11\n",
              "\n",
              "[304 rows x 6 columns]"
            ]
          },
          "metadata": {},
          "execution_count": 16
        }
      ]
    },
    {
      "cell_type": "code",
      "metadata": {
        "id": "0lsQG54PifWT"
      },
      "source": [
        "df_pyupbit.to_csv('/content/sample_data/pyupbit.csv')"
      ],
      "execution_count": null,
      "outputs": []
    },
    {
      "cell_type": "code",
      "metadata": {
        "colab": {
          "base_uri": "https://localhost:8080/"
        },
        "id": "NmO9VC3yqln-",
        "outputId": "733b69d3-d0ce-4c1a-f165-8e48cdef7739"
      },
      "source": [
        "open_list = df_pyupbit['open']\n",
        "close_list = df_pyupbit['close']\n",
        "\n",
        "change_list = []\n",
        "\n",
        "for i in range(len(open_list)):\n",
        "  if open_list[i] < close_list[i]:\n",
        "    change_list.append([1])\n",
        "  else:\n",
        "    change_list.append([0])\n",
        "\n",
        "len(change_list)"
      ],
      "execution_count": null,
      "outputs": [
        {
          "output_type": "execute_result",
          "data": {
            "text/plain": [
              "304"
            ]
          },
          "metadata": {},
          "execution_count": 18
        }
      ]
    },
    {
      "cell_type": "code",
      "metadata": {
        "colab": {
          "base_uri": "https://localhost:8080/"
        },
        "id": "CymW79MkX9KX",
        "outputId": "b81d9fc4-8bab-478b-e963-f19c925d3ee3"
      },
      "source": [
        "# Match text file and price movement\n",
        "\n",
        "corpus = df_corpus['cleaned_text']\n",
        "timestamp_list = df_corpus['timestamp']\n",
        "\n",
        "target_labels = []\n",
        "\n",
        "time_sec_init = time.mktime(datetime.strptime('2021-01-01 00:00:00', '%Y-%m-%d %H:%M:%S').timetuple())\n",
        "\n",
        "print(time_sec_init)\n",
        "\n",
        "for timestamp in timestamp_list:\n",
        "  time_sec = time.mktime(datetime.strptime(timestamp, '%Y-%m-%d %H:%M:%S').timetuple())\n",
        "  time_sec -= time_sec_init\n",
        "  time_sec /= 6 * 4 * 60 * 60\n",
        "  time_sec += 1 # latency\n",
        "  time_sec = int(time_sec)\n",
        "  target_labels.append(change_list[time_sec])"
      ],
      "execution_count": null,
      "outputs": [
        {
          "output_type": "stream",
          "name": "stdout",
          "text": [
            "1609459200.0\n"
          ]
        }
      ]
    },
    {
      "cell_type": "code",
      "metadata": {
        "colab": {
          "base_uri": "https://localhost:8080/"
        },
        "id": "nW0IU-FdxJbT",
        "outputId": "57527fd9-d5fb-4ceb-cadc-ba61e0551f1f"
      },
      "source": [
        "print(len(corpus))\n",
        "print(len(target_labels))"
      ],
      "execution_count": null,
      "outputs": [
        {
          "output_type": "stream",
          "name": "stdout",
          "text": [
            "4935\n",
            "4935\n"
          ]
        }
      ]
    },
    {
      "cell_type": "code",
      "metadata": {
        "id": "5V8UYyoIxbT6"
      },
      "source": [
        "class CustomDataset(Dataset):\n",
        "\n",
        "  def __init__(self):\n",
        "    self.sentences = corpus\n",
        "    self.source_sentence_tokens = [tokenizer.tokenize(s) for s in self.sentences]\n",
        "    vocabulary = list(set(w for s in self.source_sentence_tokens for w in s))\n",
        "    self.word_list = ['<pad>', '<unk>'] + vocabulary\n",
        "    self.word2idx = {w: i for i, w in enumerate(self.word_list)}\n",
        "    self.idx2word = {i: w for i, w in enumerate(self.word_list)}\n",
        "    self.pad_idx = self.word2idx['<pad>']\n",
        "    self.unk_idx = self.word2idx['<unk>']\n",
        "    self.target = target_labels\n",
        "\n",
        "  def __len__(self):\n",
        "    return len(self.sentences)\n",
        "\n",
        "  def __getitem__(self, idx):\n",
        "    sentence = self.sentences[idx]\n",
        "    words = self.source_sentence_tokens[idx]\n",
        "    input = [self.word2idx.get(w, self.unk_idx) for w in words]\n",
        "    target = self.target[idx]\n",
        "    return input, target"
      ],
      "execution_count": null,
      "outputs": []
    },
    {
      "cell_type": "code",
      "metadata": {
        "id": "pICHbWcNxpjJ"
      },
      "source": [
        "def collate_fn(batch):\n",
        "  input_arr = []\n",
        "  target_arr = []\n",
        "\n",
        "  max_lengths = 0\n",
        "  for data in batch:\n",
        "    if len(data[0]) > max_lengths:\n",
        "      max_lengths = len(data[0])\n",
        "  for data in batch:\n",
        "    padded_input = data[0] + [0] * (max_lengths - len(data[0]))\n",
        "    input_arr.append(padded_input)\n",
        "    target_arr.append(data[1])\n",
        "\n",
        "  input_tensors = torch.tensor(input_arr)\n",
        "  target_tensors = torch.tensor(target_arr, dtype=torch.float)\n",
        "\n",
        "  return input_tensors, target_tensors"
      ],
      "execution_count": null,
      "outputs": []
    },
    {
      "cell_type": "code",
      "metadata": {
        "colab": {
          "base_uri": "https://localhost:8080/"
        },
        "id": "HOeytAGexp9E",
        "outputId": "4d2ff4d2-524a-4a43-b381-0d717f72c822"
      },
      "source": [
        "datasets = CustomDataset()\n",
        "print(\"len(word_list) :\", len(datasets.word_list))\n",
        "train_set, val_set = torch.utils.data.random_split(datasets, [len(datasets)//10*7, len(datasets)-len(datasets)//10*7])\n",
        "\n",
        "batch_size = 32\n",
        "\n",
        "trainloader = DataLoader(train_set, batch_size=batch_size, shuffle=True, num_workers=0, collate_fn=collate_fn)\n",
        "valloader = DataLoader(val_set, batch_size=batch_size, shuffle=True, num_workers=0, collate_fn=collate_fn)"
      ],
      "execution_count": null,
      "outputs": [
        {
          "output_type": "stream",
          "name": "stdout",
          "text": [
            "len(word_list) : 10883\n"
          ]
        }
      ]
    },
    {
      "cell_type": "code",
      "metadata": {
        "id": "RXiBp6NUqduC",
        "colab": {
          "base_uri": "https://localhost:8080/"
        },
        "outputId": "507cd8e9-4436-4ac2-815e-7494a0720bcd"
      },
      "source": [
        "! pip install transformers datasets"
      ],
      "execution_count": null,
      "outputs": [
        {
          "output_type": "stream",
          "name": "stdout",
          "text": [
            "Collecting transformers\n",
            "  Downloading transformers-4.12.5-py3-none-any.whl (3.1 MB)\n",
            "\u001b[K     |████████████████████████████████| 3.1 MB 5.3 MB/s \n",
            "\u001b[?25hCollecting datasets\n",
            "  Downloading datasets-1.16.1-py3-none-any.whl (298 kB)\n",
            "\u001b[K     |████████████████████████████████| 298 kB 49.9 MB/s \n",
            "\u001b[?25hRequirement already satisfied: numpy>=1.17 in /usr/local/lib/python3.7/dist-packages (from transformers) (1.19.5)\n",
            "Requirement already satisfied: filelock in /usr/local/lib/python3.7/dist-packages (from transformers) (3.4.0)\n",
            "Requirement already satisfied: regex!=2019.12.17 in /usr/local/lib/python3.7/dist-packages (from transformers) (2019.12.20)\n",
            "Requirement already satisfied: requests in /usr/local/lib/python3.7/dist-packages (from transformers) (2.23.0)\n",
            "Collecting sacremoses\n",
            "  Downloading sacremoses-0.0.46-py3-none-any.whl (895 kB)\n",
            "\u001b[K     |████████████████████████████████| 895 kB 41.1 MB/s \n",
            "\u001b[?25hRequirement already satisfied: importlib-metadata in /usr/local/lib/python3.7/dist-packages (from transformers) (4.8.2)\n",
            "Collecting pyyaml>=5.1\n",
            "  Downloading PyYAML-6.0-cp37-cp37m-manylinux_2_5_x86_64.manylinux1_x86_64.manylinux_2_12_x86_64.manylinux2010_x86_64.whl (596 kB)\n",
            "\u001b[K     |████████████████████████████████| 596 kB 43.4 MB/s \n",
            "\u001b[?25hRequirement already satisfied: packaging>=20.0 in /usr/local/lib/python3.7/dist-packages (from transformers) (21.3)\n",
            "Collecting huggingface-hub<1.0,>=0.1.0\n",
            "  Downloading huggingface_hub-0.1.2-py3-none-any.whl (59 kB)\n",
            "\u001b[K     |████████████████████████████████| 59 kB 6.5 MB/s \n",
            "\u001b[?25hRequirement already satisfied: tqdm>=4.27 in /usr/local/lib/python3.7/dist-packages (from transformers) (4.62.3)\n",
            "Collecting tokenizers<0.11,>=0.10.1\n",
            "  Downloading tokenizers-0.10.3-cp37-cp37m-manylinux_2_5_x86_64.manylinux1_x86_64.manylinux_2_12_x86_64.manylinux2010_x86_64.whl (3.3 MB)\n",
            "\u001b[K     |████████████████████████████████| 3.3 MB 40.8 MB/s \n",
            "\u001b[?25hRequirement already satisfied: typing-extensions>=3.7.4.3 in /usr/local/lib/python3.7/dist-packages (from huggingface-hub<1.0,>=0.1.0->transformers) (3.10.0.2)\n",
            "Requirement already satisfied: pyparsing!=3.0.5,>=2.0.2 in /usr/local/lib/python3.7/dist-packages (from packaging>=20.0->transformers) (3.0.6)\n",
            "Collecting fsspec[http]>=2021.05.0\n",
            "  Downloading fsspec-2021.11.1-py3-none-any.whl (132 kB)\n",
            "\u001b[K     |████████████████████████████████| 132 kB 47.5 MB/s \n",
            "\u001b[?25hRequirement already satisfied: pandas in /usr/local/lib/python3.7/dist-packages (from datasets) (1.1.5)\n",
            "Collecting xxhash\n",
            "  Downloading xxhash-2.0.2-cp37-cp37m-manylinux2010_x86_64.whl (243 kB)\n",
            "\u001b[K     |████████████████████████████████| 243 kB 49.8 MB/s \n",
            "\u001b[?25hCollecting aiohttp\n",
            "  Downloading aiohttp-3.8.1-cp37-cp37m-manylinux_2_5_x86_64.manylinux1_x86_64.manylinux_2_12_x86_64.manylinux2010_x86_64.whl (1.1 MB)\n",
            "\u001b[K     |████████████████████████████████| 1.1 MB 34.9 MB/s \n",
            "\u001b[?25hRequirement already satisfied: dill in /usr/local/lib/python3.7/dist-packages (from datasets) (0.3.4)\n",
            "Requirement already satisfied: pyarrow!=4.0.0,>=3.0.0 in /usr/local/lib/python3.7/dist-packages (from datasets) (3.0.0)\n",
            "Requirement already satisfied: multiprocess in /usr/local/lib/python3.7/dist-packages (from datasets) (0.70.12.2)\n",
            "Requirement already satisfied: urllib3!=1.25.0,!=1.25.1,<1.26,>=1.21.1 in /usr/local/lib/python3.7/dist-packages (from requests->transformers) (1.24.3)\n",
            "Requirement already satisfied: idna<3,>=2.5 in /usr/local/lib/python3.7/dist-packages (from requests->transformers) (2.10)\n",
            "Requirement already satisfied: certifi>=2017.4.17 in /usr/local/lib/python3.7/dist-packages (from requests->transformers) (2021.10.8)\n",
            "Requirement already satisfied: chardet<4,>=3.0.2 in /usr/local/lib/python3.7/dist-packages (from requests->transformers) (3.0.4)\n",
            "Collecting async-timeout<5.0,>=4.0.0a3\n",
            "  Downloading async_timeout-4.0.1-py3-none-any.whl (5.7 kB)\n",
            "Collecting frozenlist>=1.1.1\n",
            "  Downloading frozenlist-1.2.0-cp37-cp37m-manylinux_2_5_x86_64.manylinux1_x86_64.manylinux_2_12_x86_64.manylinux2010_x86_64.whl (192 kB)\n",
            "\u001b[K     |████████████████████████████████| 192 kB 42.4 MB/s \n",
            "\u001b[?25hCollecting asynctest==0.13.0\n",
            "  Downloading asynctest-0.13.0-py3-none-any.whl (26 kB)\n",
            "Collecting yarl<2.0,>=1.0\n",
            "  Downloading yarl-1.7.2-cp37-cp37m-manylinux_2_5_x86_64.manylinux1_x86_64.manylinux_2_12_x86_64.manylinux2010_x86_64.whl (271 kB)\n",
            "\u001b[K     |████████████████████████████████| 271 kB 49.4 MB/s \n",
            "\u001b[?25hCollecting multidict<7.0,>=4.5\n",
            "  Downloading multidict-5.2.0-cp37-cp37m-manylinux_2_5_x86_64.manylinux1_x86_64.manylinux_2_12_x86_64.manylinux2010_x86_64.whl (160 kB)\n",
            "\u001b[K     |████████████████████████████████| 160 kB 45.2 MB/s \n",
            "\u001b[?25hCollecting aiosignal>=1.1.2\n",
            "  Downloading aiosignal-1.2.0-py3-none-any.whl (8.2 kB)\n",
            "Requirement already satisfied: attrs>=17.3.0 in /usr/local/lib/python3.7/dist-packages (from aiohttp->datasets) (21.2.0)\n",
            "Requirement already satisfied: charset-normalizer<3.0,>=2.0 in /usr/local/lib/python3.7/dist-packages (from aiohttp->datasets) (2.0.7)\n",
            "Requirement already satisfied: zipp>=0.5 in /usr/local/lib/python3.7/dist-packages (from importlib-metadata->transformers) (3.6.0)\n",
            "Requirement already satisfied: python-dateutil>=2.7.3 in /usr/local/lib/python3.7/dist-packages (from pandas->datasets) (2.8.2)\n",
            "Requirement already satisfied: pytz>=2017.2 in /usr/local/lib/python3.7/dist-packages (from pandas->datasets) (2018.9)\n",
            "Requirement already satisfied: six>=1.5 in /usr/local/lib/python3.7/dist-packages (from python-dateutil>=2.7.3->pandas->datasets) (1.15.0)\n",
            "Requirement already satisfied: joblib in /usr/local/lib/python3.7/dist-packages (from sacremoses->transformers) (1.1.0)\n",
            "Requirement already satisfied: click in /usr/local/lib/python3.7/dist-packages (from sacremoses->transformers) (7.1.2)\n",
            "Installing collected packages: multidict, frozenlist, yarl, asynctest, async-timeout, aiosignal, pyyaml, fsspec, aiohttp, xxhash, tokenizers, sacremoses, huggingface-hub, transformers, datasets\n",
            "  Attempting uninstall: pyyaml\n",
            "    Found existing installation: PyYAML 3.13\n",
            "    Uninstalling PyYAML-3.13:\n",
            "      Successfully uninstalled PyYAML-3.13\n",
            "Successfully installed aiohttp-3.8.1 aiosignal-1.2.0 async-timeout-4.0.1 asynctest-0.13.0 datasets-1.16.1 frozenlist-1.2.0 fsspec-2021.11.1 huggingface-hub-0.1.2 multidict-5.2.0 pyyaml-6.0 sacremoses-0.0.46 tokenizers-0.10.3 transformers-4.12.5 xxhash-2.0.2 yarl-1.7.2\n"
          ]
        }
      ]
    },
    {
      "cell_type": "code",
      "metadata": {
        "id": "dLiALDSqfBID"
      },
      "source": [
        "import random\n",
        "import numpy as np\n",
        "import torch\n",
        "import torch.nn as nn\n",
        "import torch.optim as optim\n",
        "import torch.nn.functional as F\n",
        "from torch.utils.data import Dataset, DataLoader\n",
        "from torch.nn.utils.rnn import pad_packed_sequence, pack_padded_sequence\n",
        "import tqdm\n",
        "import matplotlib as mpl\n",
        "from nltk.tokenize import TreebankWordTokenizer\n",
        "tokenizer = TreebankWordTokenizer()\n",
        "\n",
        "SEED = 1234\n",
        "\n",
        "random.seed(SEED)\n",
        "np.random.seed(SEED)\n",
        "torch.manual_seed(SEED)\n",
        "torch.backends.cudnn.deterministic = True"
      ],
      "execution_count": null,
      "outputs": []
    },
    {
      "cell_type": "code",
      "metadata": {
        "colab": {
          "base_uri": "https://localhost:8080/",
          "height": 183,
          "referenced_widgets": [
            "e5af396c99664babb6be3fb7e7c0803e",
            "b436dcde5ad7426d8f1bff8a4af0c1e3",
            "a35c6cf368404499b9d3c07e59ac50ed",
            "29f1f971ce2e43fabf0d9f7662de9744",
            "0f9bc91b89624249adb5283e193f9ad5",
            "2f7ec19d4e9c4959a46fe2186b1b98a5",
            "fa57d0b5d769478490c77eee1f70dae8",
            "69083932f9a04502ae056d8a1a065e0e",
            "fe31d11a5c7b43c9bcbabe7f33f917b5",
            "651c368f8d88419b9ad423219766531f",
            "9251d30f509044d2932a1d649489d6bf",
            "a5af214293324928a271de9f33b4a8f5",
            "645c09a7ac6c4832aaab7df0a6dbe161",
            "269b7c2989a3434097d1f6327b44f993",
            "dfe2bfd1ce0741128f7e56a85b5eec07",
            "328090bf460844988e1dd351620b0c78",
            "f9eea1b3c46b43f792278e7ab395c6c9",
            "8660a58a6ba5457ca5b1472cff5dfeea",
            "9faa8847d05f4b379cba51a7612649b4",
            "182a5a0a71744e06ba939cc64a31fe83",
            "139bae16a25f48378a76c0f1f7c252ed",
            "ef9f3af3005643f8a21bd744cdb96ef7"
          ]
        },
        "id": "AE3KOU9QpIwY",
        "outputId": "220b8623-69fb-4128-b2fa-853e9a1cb7b3"
      },
      "source": [
        "from transformers import BertTokenizer, BertModel\n",
        "\n",
        "bert = BertModel.from_pretrained('bert-base-uncased')"
      ],
      "execution_count": null,
      "outputs": [
        {
          "output_type": "display_data",
          "data": {
            "application/vnd.jupyter.widget-view+json": {
              "model_id": "e5af396c99664babb6be3fb7e7c0803e",
              "version_minor": 0,
              "version_major": 2
            },
            "text/plain": [
              "Downloading:   0%|          | 0.00/570 [00:00<?, ?B/s]"
            ]
          },
          "metadata": {}
        },
        {
          "output_type": "display_data",
          "data": {
            "application/vnd.jupyter.widget-view+json": {
              "model_id": "a5af214293324928a271de9f33b4a8f5",
              "version_minor": 0,
              "version_major": 2
            },
            "text/plain": [
              "Downloading:   0%|          | 0.00/420M [00:00<?, ?B/s]"
            ]
          },
          "metadata": {}
        },
        {
          "output_type": "stream",
          "name": "stderr",
          "text": [
            "Some weights of the model checkpoint at bert-base-uncased were not used when initializing BertModel: ['cls.predictions.transform.dense.weight', 'cls.predictions.bias', 'cls.seq_relationship.weight', 'cls.predictions.decoder.weight', 'cls.predictions.transform.LayerNorm.weight', 'cls.predictions.transform.dense.bias', 'cls.predictions.transform.LayerNorm.bias', 'cls.seq_relationship.bias']\n",
            "- This IS expected if you are initializing BertModel from the checkpoint of a model trained on another task or with another architecture (e.g. initializing a BertForSequenceClassification model from a BertForPreTraining model).\n",
            "- This IS NOT expected if you are initializing BertModel from the checkpoint of a model that you expect to be exactly identical (initializing a BertForSequenceClassification model from a BertForSequenceClassification model).\n"
          ]
        }
      ]
    },
    {
      "cell_type": "code",
      "metadata": {
        "id": "Ft0bUVrrqseS"
      },
      "source": [
        "class BERTGRUSentiment(nn.Module):\n",
        "\n",
        "  def __init__(self, bert, hidden_dim, output_dim, n_layers, bidirectional, dropout):\n",
        "    super().__init__()\n",
        "\n",
        "    self.bert = bert\n",
        "    embedding_dim = bert.config.to_dict()['hidden_size']\n",
        "\n",
        "    self.rnn = nn.GRU(embedding_dim, hidden_dim, num_layers=n_layers, bidirectional=bidirectional, batch_first=True, dropout=0 if n_layers < 2 else dropout)\n",
        "    self.out = nn.Linear(hidden_dim * 2 if bidirectional else hidden_dim, output_dim)\n",
        "\n",
        "    self.dropout = nn.Dropout(dropout)\n",
        "\n",
        "  def forward(self, text):\n",
        "\n",
        "    # text = [batch_size, sent len]\n",
        "\n",
        "    with torch.no_grad():\n",
        "      embedded = self.bert(text)[0]\n",
        "\n",
        "    # embedded = [batch_size, sent_len, embed_dim]\n",
        "\n",
        "    _, hidden = self.rnn(embedded)\n",
        "\n",
        "    # hidden = [num_layers * num_directions, batch_size, embed_dim]\n",
        "\n",
        "    if self.rnn.bidirectional:\n",
        "      hidden = self.dropout(torch.cat((hidden[-2,:,:], hidden[-1,:,:]), dim = 1))\n",
        "    else:\n",
        "      hidden = self.dropout(hidden[-1,:,:])\n",
        "\n",
        "    # hidden = [batch_size, hidden_dim]\n",
        "\n",
        "    output = self.out(hidden)\n",
        "\n",
        "    # output = [batch_size, output_dim]\n",
        "\n",
        "    return output"
      ],
      "execution_count": null,
      "outputs": []
    },
    {
      "cell_type": "code",
      "metadata": {
        "id": "bCGAeOEisZzQ"
      },
      "source": [
        "HIDDEN_DIM = 1024\n",
        "OUTPUT_DIM = 1\n",
        "N_LAYERS = 6\n",
        "BIDIRECTIONAL = True\n",
        "DROPOUT = 0.15\n",
        "\n",
        "model = BERTGRUSentiment(bert, HIDDEN_DIM, OUTPUT_DIM, N_LAYERS, BIDIRECTIONAL, DROPOUT)"
      ],
      "execution_count": null,
      "outputs": []
    },
    {
      "cell_type": "code",
      "metadata": {
        "colab": {
          "base_uri": "https://localhost:8080/"
        },
        "id": "Z8AqzAd3swn_",
        "outputId": "40877066-6edc-44f1-96e9-6ffa2504f263"
      },
      "source": [
        "def count_parameters(model):\n",
        "  return sum(p.numel() for p in model.parameters() if p.requires_grad)\n",
        "\n",
        "print(f'The model has {count_parameters(model):,} trainable parameters')"
      ],
      "execution_count": null,
      "outputs": [
        {
          "output_type": "stream",
          "name": "stdout",
          "text": [
            "The model has 214,939,905 trainable parameters\n"
          ]
        }
      ]
    },
    {
      "cell_type": "code",
      "metadata": {
        "id": "NK24LoyltNAC"
      },
      "source": [
        "for name, param in model.named_parameters():\n",
        "  if name.startswith('bert'):\n",
        "    param.requires_grad = False"
      ],
      "execution_count": null,
      "outputs": []
    },
    {
      "cell_type": "code",
      "metadata": {
        "colab": {
          "base_uri": "https://localhost:8080/"
        },
        "id": "UTyPlx2itVuC",
        "outputId": "461302b4-b536-416e-aa8b-1757bd6f1234"
      },
      "source": [
        "def count_parameters(model):\n",
        "  return sum(p.numel() for p in model.parameters() if p.requires_grad)\n",
        "\n",
        "print(f'The model has {count_parameters(model):,} trainable parameters')"
      ],
      "execution_count": null,
      "outputs": [
        {
          "output_type": "stream",
          "name": "stdout",
          "text": [
            "The model has 105,457,665 trainable parameters\n"
          ]
        }
      ]
    },
    {
      "cell_type": "code",
      "metadata": {
        "id": "YXM8Q0rtuLl0",
        "colab": {
          "base_uri": "https://localhost:8080/"
        },
        "outputId": "9778ad20-0584-4714-cc00-36fadefb3644"
      },
      "source": [
        "for name, param in model.named_parameters():\n",
        "  if param.requires_grad:\n",
        "    print(name)"
      ],
      "execution_count": null,
      "outputs": [
        {
          "output_type": "stream",
          "name": "stdout",
          "text": [
            "rnn.weight_ih_l0\n",
            "rnn.weight_hh_l0\n",
            "rnn.bias_ih_l0\n",
            "rnn.bias_hh_l0\n",
            "rnn.weight_ih_l0_reverse\n",
            "rnn.weight_hh_l0_reverse\n",
            "rnn.bias_ih_l0_reverse\n",
            "rnn.bias_hh_l0_reverse\n",
            "rnn.weight_ih_l1\n",
            "rnn.weight_hh_l1\n",
            "rnn.bias_ih_l1\n",
            "rnn.bias_hh_l1\n",
            "rnn.weight_ih_l1_reverse\n",
            "rnn.weight_hh_l1_reverse\n",
            "rnn.bias_ih_l1_reverse\n",
            "rnn.bias_hh_l1_reverse\n",
            "rnn.weight_ih_l2\n",
            "rnn.weight_hh_l2\n",
            "rnn.bias_ih_l2\n",
            "rnn.bias_hh_l2\n",
            "rnn.weight_ih_l2_reverse\n",
            "rnn.weight_hh_l2_reverse\n",
            "rnn.bias_ih_l2_reverse\n",
            "rnn.bias_hh_l2_reverse\n",
            "rnn.weight_ih_l3\n",
            "rnn.weight_hh_l3\n",
            "rnn.bias_ih_l3\n",
            "rnn.bias_hh_l3\n",
            "rnn.weight_ih_l3_reverse\n",
            "rnn.weight_hh_l3_reverse\n",
            "rnn.bias_ih_l3_reverse\n",
            "rnn.bias_hh_l3_reverse\n",
            "rnn.weight_ih_l4\n",
            "rnn.weight_hh_l4\n",
            "rnn.bias_ih_l4\n",
            "rnn.bias_hh_l4\n",
            "rnn.weight_ih_l4_reverse\n",
            "rnn.weight_hh_l4_reverse\n",
            "rnn.bias_ih_l4_reverse\n",
            "rnn.bias_hh_l4_reverse\n",
            "rnn.weight_ih_l5\n",
            "rnn.weight_hh_l5\n",
            "rnn.bias_ih_l5\n",
            "rnn.bias_hh_l5\n",
            "rnn.weight_ih_l5_reverse\n",
            "rnn.weight_hh_l5_reverse\n",
            "rnn.bias_ih_l5_reverse\n",
            "rnn.bias_hh_l5_reverse\n",
            "out.weight\n",
            "out.bias\n"
          ]
        }
      ]
    },
    {
      "cell_type": "code",
      "metadata": {
        "id": "HIPEaroiuiyZ"
      },
      "source": [
        "import torch.optim as optim\n",
        "\n",
        "optimizer = optim.Adam(model.parameters())"
      ],
      "execution_count": null,
      "outputs": []
    },
    {
      "cell_type": "code",
      "metadata": {
        "id": "wG9rktzGuqOx"
      },
      "source": [
        "criterion = nn.BCEWithLogitsLoss()"
      ],
      "execution_count": null,
      "outputs": []
    },
    {
      "cell_type": "code",
      "metadata": {
        "colab": {
          "base_uri": "https://localhost:8080/"
        },
        "id": "o0WNA6JLuugW",
        "outputId": "04fc814b-94ef-4138-a28a-6220b3bb5b8f"
      },
      "source": [
        "datasets = CustomDataset()\n",
        "print(\"len(word_list) :\", len(datasets.word_list))\n",
        "train_set, val_set = torch.utils.data.random_split(datasets, [len(datasets)//10*7, len(datasets)-len(datasets)//10*7])\n",
        "\n",
        "batch_size = 128\n",
        "device = torch.device('cuda' if torch.cuda.is_available() else 'cpu')\n",
        "\n",
        "trainloader = DataLoader(train_set, batch_size=batch_size, shuffle=True, num_workers=0, collate_fn=collate_fn)\n",
        "valloader = DataLoader(val_set, batch_size=batch_size, shuffle=True, num_workers=0, collate_fn=collate_fn)"
      ],
      "execution_count": null,
      "outputs": [
        {
          "output_type": "stream",
          "name": "stdout",
          "text": [
            "len(word_list) : 10883\n"
          ]
        }
      ]
    },
    {
      "cell_type": "code",
      "metadata": {
        "colab": {
          "base_uri": "https://localhost:8080/"
        },
        "id": "hCI8YTjVvDCe",
        "outputId": "d77ab204-baaa-47d1-a7be-09d2c08b7e8c"
      },
      "source": [
        "print(device)\n",
        "model = model.to(device)\n",
        "criterion = criterion.to(device)"
      ],
      "execution_count": null,
      "outputs": [
        {
          "output_type": "stream",
          "name": "stdout",
          "text": [
            "cuda\n"
          ]
        }
      ]
    },
    {
      "cell_type": "code",
      "metadata": {
        "id": "-fQLxKS5vKoh"
      },
      "source": [
        "def binary_accuracy(preds, y):\n",
        "  \"\"\"\n",
        "  Returns accuracy per batch, i.e. if you get 8/10 right, this returns 0.8, NOT 8\n",
        "  \"\"\"\n",
        "\n",
        "  #rount predictions to the closest integer\n",
        "  rounded_preds = torch.round(torch.sigmoid(preds))\n",
        "  correct = (rounded_preds == y).float()\n",
        "  acc = correct.sum() / len(correct)\n",
        "  return acc"
      ],
      "execution_count": null,
      "outputs": []
    },
    {
      "cell_type": "code",
      "metadata": {
        "id": "j-X6H0yZvoes"
      },
      "source": [
        "def train(model, trainloader, optimizer, criterion):\n",
        "\n",
        "  epoch_loss = 0\n",
        "  epoch_acc = 0\n",
        "\n",
        "  model.train()\n",
        "\n",
        "  for input, target in trainloader:\n",
        "\n",
        "    input = input.to(device)\n",
        "    target = target.to(device)\n",
        "\n",
        "    optimizer.zero_grad()\n",
        "\n",
        "    predictions = model(input)\n",
        "\n",
        "    loss = criterion(predictions, target)\n",
        "\n",
        "    acc = binary_accuracy(predictions, target)\n",
        "\n",
        "    loss.backward()\n",
        "\n",
        "    optimizer.step()\n",
        "\n",
        "    epoch_loss += loss.item()\n",
        "    epoch_acc += acc.item()\n",
        "\n",
        "  return epoch_loss / len(trainloader), epoch_acc / len(trainloader)"
      ],
      "execution_count": null,
      "outputs": []
    },
    {
      "cell_type": "code",
      "metadata": {
        "id": "SxeQVmXdwdkg"
      },
      "source": [
        "def evaluate(model, valloader, criterion):\n",
        "\n",
        "  epoch_loss = 0\n",
        "  epoch_acc = 0\n",
        "\n",
        "  model.eval()\n",
        "\n",
        "  with torch.no_grad():\n",
        "\n",
        "    for input, target in valloader:\n",
        "\n",
        "      input = input.to(device)\n",
        "      target = target.to(device)\n",
        "\n",
        "      predictions = model(input)\n",
        "\n",
        "      loss = criterion(predictions, target)\n",
        "\n",
        "      acc = binary_accuracy(predictions, target)\n",
        "\n",
        "      epoch_loss += loss.item()\n",
        "      epoch_acc += acc.item()\n",
        "\n",
        "    return epoch_loss / len(valloader), epoch_acc / len(valloader)"
      ],
      "execution_count": null,
      "outputs": []
    },
    {
      "cell_type": "code",
      "metadata": {
        "id": "Kpk4L0hHw_Lk"
      },
      "source": [
        "import time\n",
        "\n",
        "def epoch_time(start_time, end_time):\n",
        "  elapsed_time = end_time - start_time\n",
        "  elapsed_mins = int(elapsed_time / 60)\n",
        "  elapsed_secs = int(elapsed_time - (elapsed_mins * 60))\n",
        "  return elapsed_mins, elapsed_secs"
      ],
      "execution_count": null,
      "outputs": []
    },
    {
      "cell_type": "code",
      "metadata": {
        "id": "Y8bjKC5qyVSL",
        "colab": {
          "base_uri": "https://localhost:8080/"
        },
        "outputId": "77ec4ded-0ba8-4865-dc6e-dec227c3e816"
      },
      "source": [
        "N_EPOCHS = 20\n",
        "\n",
        "train_loss_history = []\n",
        "train_acc_history = []\n",
        "val_loss_history = []\n",
        "val_acc_history = []\n",
        "\n",
        "best_valid_loss = float('inf')\n",
        "\n",
        "for epoch in range(N_EPOCHS):\n",
        "\n",
        "    start_time = time.time()\n",
        "\n",
        "    train_loss, train_acc = train(model, trainloader, optimizer, criterion)\n",
        "    valid_loss, valid_acc = evaluate(model, valloader, criterion)\n",
        "\n",
        "    train_loss_history.append(train_loss)\n",
        "    train_acc_history.append(train_acc)\n",
        "\n",
        "    val_loss_history.append(valid_loss)\n",
        "    val_acc_history.append(valid_acc)\n",
        "\n",
        "    end_time = time.time()\n",
        "\n",
        "    epoch_mins, epoch_secs = epoch_time(start_time, end_time)\n",
        "\n",
        "    if valid_loss < best_valid_loss:\n",
        "        best_valid_loss = valid_loss\n",
        "        torch.save(model.state_dict(), 'tut6-model.pt')\n",
        "\n",
        "    print(f'Epoch: {epoch+1:02} | Epoch Time: {epoch_mins}m {epoch_secs}s')\n",
        "    print(f'\\tTrain Loss: {train_loss:.3f} | Train Acc: {train_acc*100:.2f}%')\n",
        "    print(f'\\t Val. Loss: {valid_loss:.3f} |  Val. Acc: {valid_acc*100:.2f}%')"
      ],
      "execution_count": null,
      "outputs": [
        {
          "output_type": "stream",
          "name": "stdout",
          "text": [
            "Epoch: 01 | Epoch Time: 0m 49s\n",
            "\tTrain Loss: 1.039 | Train Acc: 49.47%\n",
            "\t Val. Loss: 0.697 |  Val. Acc: 49.98%\n",
            "Epoch: 02 | Epoch Time: 0m 50s\n",
            "\tTrain Loss: 0.700 | Train Acc: 49.81%\n",
            "\t Val. Loss: 0.694 |  Val. Acc: 49.58%\n",
            "Epoch: 03 | Epoch Time: 0m 50s\n",
            "\tTrain Loss: 0.702 | Train Acc: 49.36%\n",
            "\t Val. Loss: 0.705 |  Val. Acc: 50.37%\n",
            "Epoch: 04 | Epoch Time: 0m 50s\n",
            "\tTrain Loss: 0.699 | Train Acc: 49.73%\n",
            "\t Val. Loss: 0.695 |  Val. Acc: 49.67%\n",
            "Epoch: 05 | Epoch Time: 0m 50s\n",
            "\tTrain Loss: 0.708 | Train Acc: 49.64%\n",
            "\t Val. Loss: 0.694 |  Val. Acc: 49.67%\n",
            "Epoch: 06 | Epoch Time: 0m 50s\n",
            "\tTrain Loss: 0.702 | Train Acc: 49.85%\n",
            "\t Val. Loss: 0.752 |  Val. Acc: 49.76%\n",
            "Epoch: 07 | Epoch Time: 0m 50s\n",
            "\tTrain Loss: 0.715 | Train Acc: 49.34%\n",
            "\t Val. Loss: 0.696 |  Val. Acc: 50.15%\n",
            "Epoch: 08 | Epoch Time: 0m 50s\n",
            "\tTrain Loss: 0.711 | Train Acc: 47.96%\n",
            "\t Val. Loss: 0.695 |  Val. Acc: 49.45%\n",
            "Epoch: 09 | Epoch Time: 0m 50s\n",
            "\tTrain Loss: 0.709 | Train Acc: 49.52%\n",
            "\t Val. Loss: 0.745 |  Val. Acc: 49.76%\n",
            "Epoch: 10 | Epoch Time: 0m 50s\n",
            "\tTrain Loss: 0.713 | Train Acc: 49.92%\n",
            "\t Val. Loss: 0.697 |  Val. Acc: 50.37%\n",
            "Epoch: 11 | Epoch Time: 0m 50s\n",
            "\tTrain Loss: 0.723 | Train Acc: 50.07%\n",
            "\t Val. Loss: 0.698 |  Val. Acc: 50.06%\n",
            "Epoch: 12 | Epoch Time: 0m 50s\n",
            "\tTrain Loss: 0.704 | Train Acc: 50.54%\n",
            "\t Val. Loss: 0.693 |  Val. Acc: 50.46%\n",
            "Epoch: 13 | Epoch Time: 0m 51s\n",
            "\tTrain Loss: 0.699 | Train Acc: 50.70%\n",
            "\t Val. Loss: 0.693 |  Val. Acc: 49.85%\n",
            "Epoch: 14 | Epoch Time: 0m 50s\n",
            "\tTrain Loss: 0.707 | Train Acc: 50.03%\n",
            "\t Val. Loss: 0.696 |  Val. Acc: 50.06%\n",
            "Epoch: 15 | Epoch Time: 0m 50s\n",
            "\tTrain Loss: 0.721 | Train Acc: 49.10%\n",
            "\t Val. Loss: 0.693 |  Val. Acc: 50.69%\n",
            "Epoch: 16 | Epoch Time: 0m 50s\n",
            "\tTrain Loss: 0.699 | Train Acc: 49.56%\n",
            "\t Val. Loss: 0.699 |  Val. Acc: 49.76%\n",
            "Epoch: 17 | Epoch Time: 0m 50s\n",
            "\tTrain Loss: 0.701 | Train Acc: 49.96%\n",
            "\t Val. Loss: 0.715 |  Val. Acc: 49.89%\n",
            "Epoch: 18 | Epoch Time: 0m 50s\n",
            "\tTrain Loss: 0.726 | Train Acc: 48.25%\n",
            "\t Val. Loss: 0.740 |  Val. Acc: 49.58%\n",
            "Epoch: 19 | Epoch Time: 0m 50s\n",
            "\tTrain Loss: 0.711 | Train Acc: 49.96%\n",
            "\t Val. Loss: 0.707 |  Val. Acc: 50.07%\n",
            "Epoch: 20 | Epoch Time: 0m 50s\n",
            "\tTrain Loss: 0.705 | Train Acc: 49.04%\n",
            "\t Val. Loss: 0.694 |  Val. Acc: 49.40%\n"
          ]
        }
      ]
    },
    {
      "cell_type": "code",
      "metadata": {
        "id": "wYyDfvf6hxXW",
        "colab": {
          "base_uri": "https://localhost:8080/",
          "height": 430
        },
        "outputId": "42d801ce-2a19-4cf4-f6b6-8dc0d3997ff0"
      },
      "source": [
        "# Plot history graph\n",
        "!pip install matplotlib\n",
        "import matplotlib.pyplot as plt\n",
        "\n",
        "plt.style.use('ggplot')\n",
        "mpl.rcParams['axes.unicode_minus'] = False\n",
        "\n",
        "fig, axes = plt.subplots(2,1)\n",
        "axes[0].plot(train_loss_history, label='train_loss')\n",
        "axes[0].plot(val_loss_history, label='test_loss')\n",
        "# axes[0].title.set_text(\"loss graph\")\n",
        "plt.legend()\n",
        "axes[1].plot(train_acc_history, label = 'train_acc')\n",
        "axes[1].plot(val_acc_history, label = 'val_acc')\n",
        "# axes[1].title.set_text(\"acc graph\")\n",
        "plt.legend()\n",
        "plt.show()"
      ],
      "execution_count": null,
      "outputs": [
        {
          "output_type": "stream",
          "name": "stdout",
          "text": [
            "Requirement already satisfied: matplotlib in /usr/local/lib/python3.7/dist-packages (3.2.2)\n",
            "Requirement already satisfied: cycler>=0.10 in /usr/local/lib/python3.7/dist-packages (from matplotlib) (0.11.0)\n",
            "Requirement already satisfied: kiwisolver>=1.0.1 in /usr/local/lib/python3.7/dist-packages (from matplotlib) (1.3.2)\n",
            "Requirement already satisfied: pyparsing!=2.0.4,!=2.1.2,!=2.1.6,>=2.0.1 in /usr/local/lib/python3.7/dist-packages (from matplotlib) (3.0.6)\n",
            "Requirement already satisfied: python-dateutil>=2.1 in /usr/local/lib/python3.7/dist-packages (from matplotlib) (2.8.2)\n",
            "Requirement already satisfied: numpy>=1.11 in /usr/local/lib/python3.7/dist-packages (from matplotlib) (1.19.5)\n",
            "Requirement already satisfied: six>=1.5 in /usr/local/lib/python3.7/dist-packages (from python-dateutil>=2.1->matplotlib) (1.15.0)\n"
          ]
        },
        {
          "output_type": "stream",
          "name": "stderr",
          "text": [
            "No handles with labels found to put in legend.\n"
          ]
        },
        {
          "output_type": "display_data",
          "data": {
            "image/png": "[encoded data removed]",
            "text/plain": [
              "<Figure size 432x288 with 2 Axes>"
            ]
          },
          "metadata": {}
        }
      ]
    },
    {
      "cell_type": "code",
      "metadata": {
        "colab": {
          "base_uri": "https://localhost:8080/"
        },
        "id": "NfU4rvSFGYtI",
        "outputId": "893c5eac-0f7c-4c34-9759-56c32e1cee38"
      },
      "source": [
        "!pip install numpy\n",
        "import numpy as np\n",
        "\n",
        "print(np.mean(train_loss_history))\n",
        "print(np.mean(val_loss_history))\n",
        "print(np.mean(train_acc_history))\n",
        "print(np.mean(val_acc_history))"
      ],
      "execution_count": null,
      "outputs": [
        {
          "output_type": "stream",
          "name": "stdout",
          "text": [
            "Requirement already satisfied: numpy in /usr/local/lib/python3.7/dist-packages (1.19.5)\n",
            "0.7247048443114317\n",
            "0.705059435715278\n",
            "0.4959009654544019\n",
            "0.49930269991358117\n"
          ]
        }
      ]
    },
    {
      "cell_type": "markdown",
      "metadata": {
        "id": "EpAtmACQ-MvB"
      },
      "source": [
        "Cryptocurrency API - CryptoAPI.py"
      ]
    },
    {
      "cell_type": "code",
      "metadata": {
        "id": "61R_wkIX-VI3"
      },
      "source": [
        "import pandas as pd\n",
        "import requests\n",
        "import datetime\n",
        "\n",
        "class CryptoAPI:\n",
        "    def __init__(self):\n",
        "        self.base_url = \"https://api.coingecko.com/api/v3/\"\n",
        "        self.coin = \"bitcoin\"\n",
        "        self.vs_currency = \"usd\"\n",
        "        self.time_format = \"YYYY-MM-DD hh:mm:ss\"\n",
        "        self.prices = None\n",
        "\n",
        "    def check_api_status(self):\n",
        "        res = requests.get(self.base_url + \"ping\")\n",
        "        return res.status_code == 200\n",
        "\n",
        "    def fetch_prices(self, since, until):\n",
        "        try:\n",
        "            since_unix = self.__date_str_to_unix(since)\n",
        "            until_unix = self.__date_str_to_unix(until)\n",
        "            res = requests.get(self.base_url + f\"coins/{self.coin}/market_chart/range?vs_currency={self.vs_currency}&from={since_unix}&to={until_unix}\")\n",
        "            self. prices = pd.DataFrame(res.json()[\"prices\"], columns=[\"unix_timestamp\", \"price\"])\n",
        "        except: return False\n",
        "        return True\n",
        "\n",
        "    def get_pandas_df(self, readable_date=False):\n",
        "        # assert self.prices != None, \"Error: no prices have been loaded. Fetch for the data before by using the `fetch_prices` function.\"\n",
        "        if readable_date:\n",
        "            dates = [self.__date_unix_to_str(x) for x in self.prices[\"unix_timestamp\"]]\n",
        "            print(dates)\n",
        "        return self.prices\n",
        "\n",
        "    def save_data_as_csv(self, path, readable_date=False):\n",
        "        # assert self.prices != None, \"Error: no prices have been loaded. Fetch for the data before by using the `fetch_prices` function.\"\n",
        "        try:\n",
        "            if readable_date:\n",
        "                dates = [self.__date_unix_to_str(x) for x in self.prices[\"unix_timestamp\"]]\n",
        "            print(dates)\n",
        "            self.prices.to_csv(path, index=False)\n",
        "            return True\n",
        "        except: return False\n",
        "\n",
        "    def __date_str_to_unix(self, raw):\n",
        "        assert len(self.time_format) == len(raw), \"Provided date string does not compile to specified date format.\"\n",
        "        date_time_split = raw.split(\" \")\n",
        "        assert len(date_time_split) == 2\n",
        "        date_part_str, time_part_str = date_time_split[0], date_time_split[1]\n",
        "\n",
        "        date_part_split = date_part_str.split(\"-\")\n",
        "        time_part_split = time_part_str.split(\":\")\n",
        "\n",
        "        year, month, day = int(date_part_split[0]), int(date_part_split[1]), int(date_part_split[2])\n",
        "        hour, minutes, seconds = int(time_part_split[0]), int(time_part_split[1]), int(time_part_split[2])\n",
        "        dt = datetime.datetime(year, month, day, hour, minutes, seconds)\n",
        "        return dt.timestamp()\n",
        "\n",
        "    def __date_unix_to_str(self, date_unix):\n",
        "        dt = datetime.datetime.fromtimestamp(date_unix)\n",
        "        return dt.strftime(\"%m/%d/%Y, %H:%M:%S\")"
      ],
      "execution_count": null,
      "outputs": []
    },
    {
      "cell_type": "markdown",
      "metadata": {
        "id": "lRn6w92d-cuo"
      },
      "source": [
        "Cryptocurrency API - main.py"
      ]
    },
    {
      "cell_type": "code",
      "metadata": {
        "id": "pC52qAij-MYQ"
      },
      "source": [
        "import pandas as pd\n",
        "\n",
        "from CryptoAPI import CryptoAPI\n",
        "\n",
        "\n",
        "# Simple example on how to use yhe CryptoAPI class. For now, thing to take into consideration:\n",
        "#   - It uses the CoinGeckoAPI only.\n",
        "#   - Only fetches for Bitcoin data.\n",
        "#   - Only fetches price as United States Dolar (USD).\n",
        "#   - Only accepted date format is \"YYYY-MM-DD hh:mm:ss\".\n",
        "#   - `fetch_prices` must be called before any other data related function.\n",
        "#\n",
        "#   - Data granularity is automatic (cannot be adjusted)\n",
        "#   1 day from query time = 5 minute interval data\n",
        "#   1 - 90 days from query time = hourly data\n",
        "#   above 90 days from query time = daily data (00:00 UTC)\n",
        "\n",
        "crypto_api = CryptoAPI()\n",
        "if crypto_api.fetch_prices(\"2021-01-01 00:00:00\", \"2021-01-10 05:00:00\"):\n",
        "    #df = crypto_api.get_pandas_df()\n",
        "    #print(df)\n",
        "    crypto_api.save_data_as_csv(\"./btc:usd_from:20210101000000_to:20210101050000.csv\")"
      ],
      "execution_count": null,
      "outputs": []
    }
  ]
}